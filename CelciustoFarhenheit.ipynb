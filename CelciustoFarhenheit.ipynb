{
  "nbformat": 4,
  "nbformat_minor": 0,
  "metadata": {
    "colab": {
      "name": "CelciustoFarenheit.ipynb",
      "provenance": [],
      "collapsed_sections": []
    },
    "kernelspec": {
      "name": "python3",
      "display_name": "Python 3"
    },
    "language_info": {
      "name": "python"
    }
  },
  "cells": [
    {
      "cell_type": "code",
      "execution_count": 64,
      "metadata": {
        "id": "Z8iOqk2hrNbV"
      },
      "outputs": [],
      "source": [
        "import tensorflow as tf\n",
        "import numpy as np\n",
        "import matplotlib.pyplot as plt"
      ]
    },
    {
      "cell_type": "code",
      "source": [
        "celcius = np.array([25, 50, 0, 49, 79, 192, 147], dtype = float)\n",
        "farhenheit = np.array([77, 122, 32 , 120.2, 174.2, 377.6, 296.6], dtype = float)"
      ],
      "metadata": {
        "id": "Z8a9_fEnroV6"
      },
      "execution_count": 65,
      "outputs": []
    },
    {
      "cell_type": "code",
      "source": [
        "#model\n",
        "\n",
        "mod = tf.keras.layers.Dense(units = 1, input_shape=[1])\n",
        "model = tf.keras.Sequential([mod])"
      ],
      "metadata": {
        "id": "IDqf7VRFtyGO"
      },
      "execution_count": 66,
      "outputs": []
    },
    {
      "cell_type": "code",
      "source": [
        "#loss and optimzer functions\n",
        "\n",
        "model.compile(loss = 'mean_squared_error', optimizer = tf.keras.optimizers.Adam(0.1))"
      ],
      "metadata": {
        "id": "zdA7ESefuejf"
      },
      "execution_count": 67,
      "outputs": []
    },
    {
      "cell_type": "code",
      "source": [
        "#train the model\n",
        "train = model.fit(celcius, farhenheit, epochs = 500, verbose = False)"
      ],
      "metadata": {
        "id": "1xzMefTzvUfv"
      },
      "execution_count": 68,
      "outputs": []
    },
    {
      "cell_type": "code",
      "source": [
        "plt.xlabel(\"Epochs\")\n",
        "plt.ylabel(\"Loss\")\n",
        "plt.plot(train.history[\"loss\"])"
      ],
      "metadata": {
        "colab": {
          "base_uri": "https://localhost:8080/",
          "height": 296
        },
        "id": "IgkRBwxjvztj",
        "outputId": "6894068d-be97-49aa-f7bc-a7d4c5a15ffa"
      },
      "execution_count": 69,
      "outputs": [
        {
          "output_type": "execute_result",
          "data": {
            "text/plain": [
              "[<matplotlib.lines.Line2D at 0x7f4c0be28750>]"
            ]
          },
          "metadata": {},
          "execution_count": 69
        },
        {
          "output_type": "display_data",
          "data": {
            "text/plain": [
              "<Figure size 432x288 with 1 Axes>"
            ],
            "image/png": "[encoded data removed]"
          },
          "metadata": {
            "needs_background": "light"
          }
        }
      ]
    },
    {
      "cell_type": "code",
      "source": [
        "print(model.predict([100]))"
      ],
      "metadata": {
        "colab": {
          "base_uri": "https://localhost:8080/"
        },
        "id": "0b_YLZNqwEt_",
        "outputId": "402b51b3-c54e-44a4-c5b9-276d08c5e91e"
      },
      "execution_count": 70,
      "outputs": [
        {
          "output_type": "stream",
          "name": "stdout",
          "text": [
            "[[211.06485]]\n"
          ]
        }
      ]
    },
    {
      "cell_type": "code",
      "source": [
        "#get layer weights\n",
        "print(mod.get_weights())"
      ],
      "metadata": {
        "colab": {
          "base_uri": "https://localhost:8080/"
        },
        "id": "1GfufIhdweRC",
        "outputId": "6d420dc0-8631-4db7-905e-1ed0dd8ab556"
      },
      "execution_count": 71,
      "outputs": [
        {
          "output_type": "stream",
          "name": "stdout",
          "text": [
            "[array([[1.8318502]], dtype=float32), array([27.879843], dtype=float32)]\n"
          ]
        }
      ]
    },
    {
      "cell_type": "code",
      "source": [
        "model = tf.keras.Sequential(\n",
        "    [\n",
        "     tf.keras.layers.Dense(units = 7, input_shape = [1]),\n",
        "     tf.keras.layers.Dense(units = 4, input_shape = [2]),\n",
        "     tf.keras.layers.Dense(units = 1),\n",
        "    ]\n",
        ")"
      ],
      "metadata": {
        "id": "zKK-8D6OxZH-"
      },
      "execution_count": 78,
      "outputs": []
    },
    {
      "cell_type": "code",
      "source": [
        "model.compile(loss = 'mean_squared_error', optimizer = tf.keras.optimizers.Adam(0.1))\n",
        "train = model.fit(celcius, farhenheit, epochs = 500, verbose = False)"
      ],
      "metadata": {
        "id": "IMWhxujhyBSy"
      },
      "execution_count": 79,
      "outputs": []
    },
    {
      "cell_type": "code",
      "source": [
        "plt.xlabel(\"Epochs\")\n",
        "plt.ylabel(\"Loss\")\n",
        "plt.plot(train.history[\"loss\"])"
      ],
      "metadata": {
        "colab": {
          "base_uri": "https://localhost:8080/",
          "height": 296
        },
        "id": "rX-86dCfyPyi",
        "outputId": "fc7747d8-6c70-4ef9-a2f4-20247513501c"
      },
      "execution_count": 80,
      "outputs": [
        {
          "output_type": "execute_result",
          "data": {
            "text/plain": [
              "[<matplotlib.lines.Line2D at 0x7f4c0bbbcb90>]"
            ]
          },
          "metadata": {},
          "execution_count": 80
        },
        {
          "output_type": "display_data",
          "data": {
            "text/plain": [
              "<Figure size 432x288 with 1 Axes>"
            ],
            "image/png": "[encoded data removed]"
          },
          "metadata": {
            "needs_background": "light"
          }
        }
      ]
    },
    {
      "cell_type": "code",
      "source": [
        "print(model.predict([100]))"
      ],
      "metadata": {
        "colab": {
          "base_uri": "https://localhost:8080/"
        },
        "id": "eJVZfNntyQOi",
        "outputId": "f531d8b6-a918-44f3-ef00-757e614ecb13"
      },
      "execution_count": 81,
      "outputs": [
        {
          "output_type": "stream",
          "name": "stdout",
          "text": [
            "[[212.00003]]\n"
          ]
        }
      ]
    },
    {
      "cell_type": "code",
      "source": [
        "print(model.get_weights())"
      ],
      "metadata": {
        "colab": {
          "base_uri": "https://localhost:8080/"
        },
        "id": "oVL_HnBfySa3",
        "outputId": "5691a718-2fc7-4ca2-8613-8947f5073f46"
      },
      "execution_count": 82,
      "outputs": [
        {
          "output_type": "stream",
          "name": "stdout",
          "text": [
            "[array([[-0.07649557, -0.2618978 ,  0.12211571, -0.4268572 ,  0.20435187,\n",
            "         0.6880967 , -0.03412597]], dtype=float32), array([ 0.26600423, -3.632547  ,  3.389456  , -4.2282434 ,  2.223745  ,\n",
            "        4.521406  , -3.7913814 ], dtype=float32), array([[-0.6799901 , -0.09003876,  0.68461657,  0.3762627 ],\n",
            "       [ 0.24907114,  0.33112007,  0.9435899 ,  0.04234462],\n",
            "       [-0.6643944 ,  0.1828362 , -0.02114175,  0.740507  ],\n",
            "       [ 0.43964803, -0.14018975,  0.9532961 , -0.83354825],\n",
            "       [ 0.01037603, -0.4773284 , -0.0970388 ,  0.661089  ],\n",
            "       [-0.8302994 , -0.23188226, -0.4681434 ,  0.55163395],\n",
            "       [-0.11312722, -0.08975034,  0.4149704 , -0.8618504 ]],\n",
            "      dtype=float32), array([-4.0824523, -0.5768176, -3.6497595,  3.8468614], dtype=float32), array([[-0.46078786],\n",
            "       [ 0.00170604],\n",
            "       [-0.66134155],\n",
            "       [ 0.74235815]], dtype=float32), array([3.6863673], dtype=float32)]\n"
          ]
        }
      ]
    },
    {
      "cell_type": "code",
      "source": [
        ""
      ],
      "metadata": {
        "id": "JbLSL1k5yZ97"
      },
      "execution_count": null,
      "outputs": []
    }
  ]
}
